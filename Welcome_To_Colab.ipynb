{
  "cells": [
    {
      "cell_type": "markdown",
      "metadata": {
        "id": "view-in-github",
        "colab_type": "text"
      },
      "source": [
        "<a href=\"https://colab.research.google.com/github/Sriharinath01/arrays-basic-day1/blob/main/Welcome_To_Colab.ipynb\" target=\"_parent\"><img src=\"https://colab.research.google.com/assets/colab-badge.svg\" alt=\"Open In Colab\"/></a>"
      ]
    },
    {
      "cell_type": "code",
      "source": [
        "def printNumber(number):\n",
        "    \"\"\"\n",
        "    This function takes an integer and prints it to the console.\n",
        "    \"\"\"\n",
        "    print(number)\n",
        "\n",
        "\n",
        "try:\n",
        "    user_input = int(input(\"Enter an integer: \"))\n",
        "    printNumber(user_input)\n",
        "except ValueError:\n",
        "    print(\"Invalid input. Please enter a valid integer.\")"
      ],
      "metadata": {
        "id": "XalMroYHM89n",
        "outputId": "4494d7a7-68fc-4b85-94de-a0f9056c9a10",
        "colab": {
          "base_uri": "https://localhost:8080/"
        }
      },
      "execution_count": 10,
      "outputs": [
        {
          "output_type": "stream",
          "name": "stdout",
          "text": [
            "Enter an integer: 4222\n",
            "4222\n"
          ]
        }
      ]
    },
    {
      "cell_type": "code",
      "source": [
        "# Largest Element\n",
        "def find_largest_element(nums):\n",
        "    if not nums:\n",
        "        return None\n",
        "\n",
        "    largest = nums[0]\n",
        "\n",
        "    for num in nums:\n",
        "        if num > largest:\n",
        "            largest = num\n",
        "\n",
        "    return largest"
      ],
      "metadata": {
        "id": "D_FKpOJ7aCpS"
      },
      "execution_count": 14,
      "outputs": []
    },
    {
      "cell_type": "code",
      "source": [
        "# Check if the Array is Sorted II\n",
        "def is_sorted_non_decreasing(nums):\n",
        "    return all(nums[i] <= nums[i + 1] for i in range(len(nums) - 1))\n",
        "\n",
        "# Example usage\n",
        "print(is_sorted_non_decreasing([1, 2, 3, 4, 5]))      # True\n",
        "print(is_sorted_non_decreasing([1, 2, 1, 4, 5]))      # False\n",
        "print(is_sorted_non_decreasing([1, 9, 6, 8, 5, 4, 0]))# False\n"
      ],
      "metadata": {
        "id": "eRZ9p9xpfIzt",
        "outputId": "adf52f42-fc3a-4d3a-eee8-1d03806629b0",
        "colab": {
          "base_uri": "https://localhost:8080/"
        }
      },
      "execution_count": 15,
      "outputs": [
        {
          "output_type": "stream",
          "name": "stdout",
          "text": [
            "True\n",
            "False\n",
            "False\n"
          ]
        }
      ]
    },
    {
      "cell_type": "code",
      "source": [
        "# Second Largest Element\n",
        "\n",
        "def second_largest(nums):\n",
        "    return sorted(set(nums), reverse=True)[1] if len(set(nums)) >= 2 else -1\n",
        "\n",
        "# Example usage\n",
        "print(second_largest([8, 8, 7, 6, 5]))         # Output: 7\n",
        "print(second_largest([10, 10, 10, 10, 10]))    # Output: -1\n",
        "print(second_largest([7, 7, 2, 2, 10, 10, 10]))# Output: 7\n",
        "print(second_largest([1]))                    # Output: -1\n",
        "print(second_largest([5, 3]))                 # Output: 3\n"
      ],
      "metadata": {
        "id": "qXavmL68gIwC",
        "outputId": "19ce0aa2-d35c-471e-c26b-6d9f6f6b6cdc",
        "colab": {
          "base_uri": "https://localhost:8080/"
        }
      },
      "execution_count": 13,
      "outputs": [
        {
          "output_type": "stream",
          "name": "stdout",
          "text": [
            "7\n",
            "-1\n",
            "7\n",
            "-1\n",
            "3\n"
          ]
        }
      ]
    },
    {
      "cell_type": "code",
      "source": [
        "# Linear Search\n",
        "def find_first_index(nums, target):\n",
        "    return nums.index(target) if target in nums else -1\n",
        "\n",
        "# Example usage\n",
        "print(find_first_index([2, 3, 4, 5, 3], 3))     # Output: 1\n",
        "print(find_first_index([2, -4, 4, 0, 10], 6))   # Output: -1\n",
        "print(find_first_index([1, 3, 5, -4, 1], 1))    # Output: 0\n"
      ],
      "metadata": {
        "id": "DTEnPCMNlViZ",
        "outputId": "a2051814-71a3-4742-c9f8-5237a4276f67",
        "colab": {
          "base_uri": "https://localhost:8080/"
        }
      },
      "execution_count": 16,
      "outputs": [
        {
          "output_type": "stream",
          "name": "stdout",
          "text": [
            "1\n",
            "-1\n",
            "0\n"
          ]
        }
      ]
    },
    {
      "cell_type": "code",
      "source": [
        "# Left Rotate Array by One\n",
        "\n",
        "\n",
        "def rotate_left_by_one(nums):\n",
        "    if nums:\n",
        "        nums.append(nums.pop(0))\n",
        "\n",
        "# Example usage\n",
        "nums = [1, 2, 3, 4, 5]\n",
        "rotate_left_by_one(nums)\n",
        "print(nums)  # Output: [2, 3, 4, 5, 1]\n",
        "\n",
        "nums = [-1, 0, 3, 6]\n",
        "rotate_left_by_one(nums)\n",
        "print(nums)  # Output: [0, 3, 6, -1]\n",
        "\n",
        "nums = [7, 6, 5, 4]\n",
        "rotate_left_by_one(nums)\n",
        "print(nums)  # Output: [6, 5, 4, 7]\n"
      ],
      "metadata": {
        "id": "XesQv6t0mA6M",
        "outputId": "0ab2b3ae-48f7-4128-bedc-491f18a1e770",
        "colab": {
          "base_uri": "https://localhost:8080/"
        }
      },
      "execution_count": 17,
      "outputs": [
        {
          "output_type": "stream",
          "name": "stdout",
          "text": [
            "[2, 3, 4, 5, 1]\n",
            "[0, 3, 6, -1]\n",
            "[6, 5, 4, 7]\n"
          ]
        }
      ]
    }
  ],
  "metadata": {
    "colab": {
      "name": "Welcome To Colab",
      "provenance": [],
      "include_colab_link": true
    },
    "kernelspec": {
      "display_name": "Python 3",
      "name": "python3"
    }
  },
  "nbformat": 4,
  "nbformat_minor": 0
}